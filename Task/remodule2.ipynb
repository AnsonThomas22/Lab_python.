{
 "cells": [
  {
   "cell_type": "code",
   "execution_count": 2,
   "metadata": {},
   "outputs": [],
   "source": [
    "text = \"\"\"\n",
    "abc\n",
    "\n",
    "\n",
    "defabc\n",
    "\n",
    "\n",
    "abc123\n",
    "\n",
    "\n",
    "def\n",
    "\n",
    "\n",
    "a.b\n",
    "\n",
    "\n",
    "a\\nb\n",
    "\n",
    "\n",
    "word\n",
    "\n",
    "\n",
    "sword\n",
    "\n",
    "\n",
    "password\n",
    "\n",
    "\n",
    "wordy\n",
    "\n",
    "\n",
    "a_word\n",
    "\n",
    "\n",
    "_word_\n",
    "\n",
    "\n",
    "Word\n",
    "\n",
    "\n",
    "word\n",
    "\n",
    "\n",
    "@example\n",
    "\n",
    "\n",
    "contact@domain.org\n",
    "\n",
    "\n",
    "@mention\n",
    "\n",
    "\n",
    "nonmention\n",
    "\n",
    "\n",
    "mixed@mention\n",
    "\n",
    "\n",
    "Here are some email addresses:\n",
    "user1@example.com, contact@domain.org, and a username without an @ sign.\n",
    "\n",
    "\n",
    "Another line: @mention, nonmention, and mixed@mention.\n",
    "\n",
    "\n",
    "abb ab abbb aaa aaaa aaaaa aa a\n",
    "\n",
    "\n",
    "bbb\n",
    "aaab\n",
    "aab\n",
    "a b\n",
    "\n",
    "\n",
    "(abc\n",
    "\n",
    "\n",
    "ABC\n",
    "\n",
    "\n",
    "AbC\n",
    "\n",
    "\n",
    "1abc\n",
    "\n",
    "\n",
    "xyz\n",
    "\n",
    "\n",
    "pqr\n",
    "\"\"\""
   ]
  },
  {
   "cell_type": "code",
   "execution_count": 3,
   "metadata": {},
   "outputs": [
    {
     "name": "stdout",
     "output_type": "stream",
     "text": [
      "['abc', 'abc']\n"
     ]
    }
   ],
   "source": [
    "import re\n",
    "pattern=r'(?m)^abc'\n",
    "matches=re.findall(pattern,text)\n",
    "print(matches)"
   ]
  },
  {
   "cell_type": "code",
   "execution_count": 4,
   "metadata": {},
   "outputs": [
    {
     "name": "stdout",
     "output_type": "stream",
     "text": [
      "['a.b', 'a\\nb', 'abb', 'abb', 'aab', 'aab', 'a b']\n"
     ]
    }
   ],
   "source": [
    "pattern=r'(?s)a.b'\n",
    "matches=re.findall(pattern,text)\n",
    "print(matches)"
   ]
  },
  {
   "cell_type": "code",
   "execution_count": 5,
   "metadata": {},
   "outputs": [
    {
     "name": "stdout",
     "output_type": "stream",
     "text": [
      "['word', 'word']\n"
     ]
    }
   ],
   "source": [
    "pattern=r'\\bword\\b'\n",
    "matches=re.findall(pattern,text)\n",
    "print(matches)"
   ]
  },
  {
   "cell_type": "code",
   "execution_count": 6,
   "metadata": {},
   "outputs": [
    {
     "name": "stdout",
     "output_type": "stream",
     "text": [
      "['word']\n"
     ]
    }
   ],
   "source": [
    "pattern=r'\\Bword\\B'\n",
    "matches=re.findall(pattern,text)\n",
    "print(matches)"
   ]
  },
  {
   "cell_type": "code",
   "execution_count": 7,
   "metadata": {},
   "outputs": [
    {
     "name": "stdout",
     "output_type": "stream",
     "text": [
      "['example', 'domain', 'mention', 'mention', 'example', 'domain', 'mention', 'mention']\n"
     ]
    }
   ],
   "source": [
    "pattern=r'(?<=@)\\w+'\n",
    "matches=re.findall(pattern,text)\n",
    "print(matches)"
   ]
  },
  {
   "cell_type": "code",
   "execution_count": 8,
   "metadata": {},
   "outputs": [
    {
     "name": "stdout",
     "output_type": "stream",
     "text": [
      "['ab', 'ab', 'ab', 'b', 'b', 'ab', 'b', 'ab', 'ab', 'b', 'b', 'b', 'b', 'b', 'ab', 'ab', 'b', 'ab', 'b', 'ab']\n"
     ]
    }
   ],
   "source": [
    "pattern=r'a?b'\n",
    "matches=re.findall(pattern,text)\n",
    "print(matches)"
   ]
  },
  {
   "cell_type": "code",
   "execution_count": 9,
   "metadata": {},
   "outputs": [
    {
     "name": "stdout",
     "output_type": "stream",
     "text": [
      "['aaa', 'aaa', 'aaa', 'aaa']\n"
     ]
    }
   ],
   "source": [
    "pattern=r'a{3}'\n",
    "matches=re.findall(pattern,text)\n",
    "print(matches)"
   ]
  },
  {
   "cell_type": "code",
   "execution_count": 10,
   "metadata": {},
   "outputs": [
    {
     "name": "stdout",
     "output_type": "stream",
     "text": [
      "['aaa', 'aaaa', 'aaaa', 'aa', 'aaa', 'aa']\n"
     ]
    }
   ],
   "source": [
    "pattern=r'a{2,4}'\n",
    "matches=re.findall(pattern,text)\n",
    "print(matches)"
   ]
  },
  {
   "cell_type": "code",
   "execution_count": 11,
   "metadata": {},
   "outputs": [
    {
     "name": "stdout",
     "output_type": "stream",
     "text": [
      "['a', 'b', 'c', 'a', 'b', 'c', 'a', 'b', 'c', 'a', 'b', 'a', 'b', 'a', 'a', 'a', 'c', 'a', 'c', 'a', 'a', 'a', 'a', 'a', 'c', 'c', 'a', 'c', 'a', 'a', 'a', 'a', 'a', 'a', 'a', 'b', 'b', 'a', 'b', 'a', 'b', 'b', 'b', 'a', 'a', 'a', 'a', 'a', 'a', 'a', 'a', 'a', 'a', 'a', 'a', 'a', 'a', 'a', 'b', 'b', 'b', 'a', 'a', 'a', 'b', 'a', 'a', 'b', 'a', 'b', 'a', 'b', 'c', 'b', 'a', 'b', 'c']\n"
     ]
    }
   ],
   "source": [
    "pattern=r'[abc]'\n",
    "matches=re.findall(pattern,text)\n",
    "print(matches)"
   ]
  },
  {
   "cell_type": "code",
   "execution_count": 12,
   "metadata": {},
   "outputs": [
    {
     "name": "stdout",
     "output_type": "stream",
     "text": [
      "['\\n', '\\n', '\\n', '\\n', 'd', 'e', 'f', '\\n', '\\n', '\\n', '1', '2', '3', '\\n', '\\n', '\\n', 'd', 'e', 'f', '\\n', '\\n', '\\n', '.', '\\n', '\\n', '\\n', '\\n', '\\n', '\\n', '\\n', 'w', 'o', 'r', 'd', '\\n', '\\n', '\\n', 's', 'w', 'o', 'r', 'd', '\\n', '\\n', '\\n', 'p', 's', 's', 'w', 'o', 'r', 'd', '\\n', '\\n', '\\n', 'w', 'o', 'r', 'd', 'y', '\\n', '\\n', '\\n', '_', 'w', 'o', 'r', 'd', '\\n', '\\n', '\\n', '_', 'w', 'o', 'r', 'd', '_', '\\n', '\\n', '\\n', 'W', 'o', 'r', 'd', '\\n', '\\n', '\\n', 'w', 'o', 'r', 'd', '\\n', '\\n', '\\n', '@', 'e', 'x', 'm', 'p', 'l', 'e', '\\n', '\\n', '\\n', 'o', 'n', 't', 't', '@', 'd', 'o', 'm', 'i', 'n', '.', 'o', 'r', 'g', '\\n', '\\n', '\\n', '@', 'm', 'e', 'n', 't', 'i', 'o', 'n', '\\n', '\\n', '\\n', 'n', 'o', 'n', 'm', 'e', 'n', 't', 'i', 'o', 'n', '\\n', '\\n', '\\n', 'm', 'i', 'x', 'e', 'd', '@', 'm', 'e', 'n', 't', 'i', 'o', 'n', '\\n', '\\n', '\\n', 'H', 'e', 'r', 'e', ' ', 'r', 'e', ' ', 's', 'o', 'm', 'e', ' ', 'e', 'm', 'i', 'l', ' ', 'd', 'd', 'r', 'e', 's', 's', 'e', 's', ':', '\\n', 'u', 's', 'e', 'r', '1', '@', 'e', 'x', 'm', 'p', 'l', 'e', '.', 'o', 'm', ',', ' ', 'o', 'n', 't', 't', '@', 'd', 'o', 'm', 'i', 'n', '.', 'o', 'r', 'g', ',', ' ', 'n', 'd', ' ', ' ', 'u', 's', 'e', 'r', 'n', 'm', 'e', ' ', 'w', 'i', 't', 'h', 'o', 'u', 't', ' ', 'n', ' ', '@', ' ', 's', 'i', 'g', 'n', '.', '\\n', '\\n', '\\n', 'A', 'n', 'o', 't', 'h', 'e', 'r', ' ', 'l', 'i', 'n', 'e', ':', ' ', '@', 'm', 'e', 'n', 't', 'i', 'o', 'n', ',', ' ', 'n', 'o', 'n', 'm', 'e', 'n', 't', 'i', 'o', 'n', ',', ' ', 'n', 'd', ' ', 'm', 'i', 'x', 'e', 'd', '@', 'm', 'e', 'n', 't', 'i', 'o', 'n', '.', '\\n', '\\n', '\\n', ' ', ' ', ' ', ' ', ' ', ' ', ' ', '\\n', '\\n', '\\n', '\\n', '\\n', '\\n', ' ', '\\n', '\\n', '\\n', '(', '\\n', '\\n', '\\n', 'A', 'B', 'C', '\\n', '\\n', '\\n', 'A', 'C', '\\n', '\\n', '\\n', '1', '\\n', '\\n', '\\n', 'x', 'y', 'z', '\\n', '\\n', '\\n', 'p', 'q', 'r', '\\n']\n"
     ]
    }
   ],
   "source": [
    "pattern=r'[^abc]'\n",
    "matches=re.findall(pattern,text)\n",
    "print(matches)"
   ]
  },
  {
   "cell_type": "code",
   "execution_count": 13,
   "metadata": {},
   "outputs": [
    {
     "name": "stdout",
     "output_type": "stream",
     "text": [
      "['(abc']\n"
     ]
    }
   ],
   "source": [
    "pattern=r'\\(abc'\n",
    "matches=re.findall(pattern,text)\n",
    "print(matches)"
   ]
  },
  {
   "cell_type": "code",
   "execution_count": 15,
   "metadata": {},
   "outputs": [
    {
     "name": "stdout",
     "output_type": "stream",
     "text": [
      "['abc', 'abc', 'abc', 'abc', 'ABC', 'AbC', 'abc']\n"
     ]
    }
   ],
   "source": [
    "pattern=r'(?i)abc'\n",
    "matches=re.findall(pattern,text)\n",
    "print(matches)"
   ]
  },
  {
   "cell_type": "code",
   "execution_count": null,
   "metadata": {},
   "outputs": [],
   "source": []
  }
 ],
 "metadata": {
  "kernelspec": {
   "display_name": "base",
   "language": "python",
   "name": "python3"
  },
  "language_info": {
   "codemirror_mode": {
    "name": "ipython",
    "version": 3
   },
   "file_extension": ".py",
   "mimetype": "text/x-python",
   "name": "python",
   "nbconvert_exporter": "python",
   "pygments_lexer": "ipython3",
   "version": "3.9.7"
  }
 },
 "nbformat": 4,
 "nbformat_minor": 2
}
