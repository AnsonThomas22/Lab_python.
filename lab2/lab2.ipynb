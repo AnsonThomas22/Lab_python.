{
 "cells": [
  {
   "cell_type": "code",
   "execution_count": 12,
   "metadata": {},
   "outputs": [
    {
     "name": "stdout",
     "output_type": "stream",
     "text": [
      "List 1: First 10 natural numbers\n",
      "The maximum value of the list is: 10\n",
      "The minimum value of the list is: 1\n",
      "The sum of the list is: 55\n",
      "The average value of the list is: 5.5\n",
      "The median is: 5.5\n",
      "\n",
      "List 2: First 10 even numbers\n",
      "The maximum value of the list is: 20\n",
      "The minimum value of the list is: 2\n",
      "The sum of the list is: 110\n",
      "The average value of the list is: 11.0\n",
      "The median is: 11.0\n",
      "\n",
      "List 3: Squares of first 10 natural numbers\n",
      "The maximum value of the list is: 100\n",
      "The minimum value of the list is: 1\n",
      "The sum of the list is: 385\n",
      "The average value of the list is: 38.5\n",
      "The median is: 30.5\n",
      "\n",
      "List 4: Multiples of 5 up to 50\n",
      "The maximum value of the list is: 50\n",
      "The minimum value of the list is: 5\n",
      "The sum of the list is: 275\n",
      "The average value of the list is: 27.5\n",
      "The median is: 27.5\n",
      "\n",
      "List 5: First 10 odd numbers\n",
      "The maximum value of the list is: 19\n",
      "The minimum value of the list is: 1\n",
      "The sum of the list is: 100\n",
      "The average value of the list is: 10.0\n",
      "The median is: 10.0\n"
     ]
    }
   ],
   "source": [
    "#1\n",
    "import lab2 as l\n",
    "import importlib\n",
    "importlib.reload(l)\n",
    "list1 = [x for x in range(1, 11)]\n",
    "list2 = [x for x in range(2, 21, 2)]\n",
    "list3 = [x**2 for x in range(1, 11)]\n",
    "list4 = [x for x in range(5, 51, 5)]\n",
    "list5 = [x for x in range(1, 20, 2)]\n",
    "\n",
    "print(\"List 1: First 10 natural numbers\")\n",
    "l.module_ListFunction(list1) \n",
    "print(\"\\nList 2: First 10 even numbers\")\n",
    "l.module_ListFunction(list2)\n",
    "print(\"\\nList 3: Squares of first 10 natural numbers\")\n",
    "l.module_ListFunction(list3)\n",
    "print(\"\\nList 4: Multiples of 5 up to 50\")\n",
    "l.module_ListFunction(list4)\n",
    "print(\"\\nList 5: First 10 odd numbers\")\n",
    "l.module_ListFunction(list5)"
   ]
  },
  {
   "cell_type": "code",
   "execution_count": 19,
   "metadata": {},
   "outputs": [
    {
     "name": "stdout",
     "output_type": "stream",
     "text": [
      "Add element 4 to s1: {1, 2, 3, 4}\n",
      "Remove element 2 from s1: {1, 3, 4}\n",
      "Union of s1 and s2: {1, 3, 4, 5}\n",
      "Intersection of s1 and s2: {3, 4}\n",
      "Difference s1 - s2: {1}\n",
      "Is s1 a subset of s2? False\n",
      "Length of s1: 3\n",
      "Symmetric difference of s1 and s2: {1, 5}\n",
      "Power set of s1: [set(), {1}, {3}, {4}, {1, 3}, {1, 4}, {3, 4}, {1, 3, 4}]\n",
      "Unique subsets of s1: [set(), {1}, {3}, {4}, {1, 3}, {1, 4}, {3, 4}, {1, 3, 4}]\n"
     ]
    }
   ],
   "source": [
    "#2\n",
    "import importlib\n",
    "importlib.reload(l)\n",
    "from lab2 import (\n",
    "    add_element,\n",
    "    remove_element,\n",
    "    union_and_intersection,\n",
    "    difference,\n",
    "    is_subset,\n",
    "    set_length,\n",
    "    symmetric_difference,\n",
    "    power_set,\n",
    "    unique_subsets\n",
    ")\n",
    "\n",
    "\n",
    "\n",
    "# Example sets\n",
    "s1 = {1, 2, 3}\n",
    "s2 = {3, 4, 5}\n",
    "\n",
    "\n",
    "# Add element\n",
    "print(\"Add element 4 to s1:\", add_element(s1, 4))\n",
    "\n",
    "# Remove element\n",
    "print(\"Remove element 2 from s1:\", remove_element(s1, 2))\n",
    "\n",
    "# Union and Intersection\n",
    "union, intersection = union_and_intersection(s1, s2)\n",
    "print(\"Union of s1 and s2:\", union)\n",
    "print(\"Intersection of s1 and s2:\", intersection)\n",
    "\n",
    "# Difference\n",
    "print(\"Difference s1 - s2:\", difference(s1, s2))\n",
    "\n",
    "# Subset check\n",
    "print(\"Is s1 a subset of s2?\", is_subset(s1, s2))\n",
    "\n",
    "# Length of set\n",
    "print(\"Length of s1:\", set_length(s1))\n",
    "\n",
    "# Symmetric Difference\n",
    "print(\"Symmetric difference of s1 and s2:\", symmetric_difference(s1, s2))\n",
    "\n",
    "# Power Set\n",
    "print(\"Power set of s1:\", power_set(s1))\n",
    "\n",
    "# Unique Subsets\n",
    "print(\"Unique subsets of s1:\", unique_subsets(s1))"
   ]
  },
  {
   "cell_type": "code",
   "execution_count": 20,
   "metadata": {},
   "outputs": [
    {
     "data": {
      "text/plain": [
       "['__builtins__',\n",
       " '__cached__',\n",
       " '__doc__',\n",
       " '__file__',\n",
       " '__loader__',\n",
       " '__name__',\n",
       " '__package__',\n",
       " '__spec__',\n",
       " 'add_element',\n",
       " 'difference',\n",
       " 'is_subset',\n",
       " 'module_ListFunction',\n",
       " 'power_set',\n",
       " 'remove_element',\n",
       " 'set_length',\n",
       " 'symmetric_difference',\n",
       " 'union_and_intersection',\n",
       " 'unique_subsets']"
      ]
     },
     "execution_count": 20,
     "metadata": {},
     "output_type": "execute_result"
    }
   ],
   "source": [
    "dir(l)"
   ]
  },
  {
   "cell_type": "code",
   "execution_count": 21,
   "metadata": {},
   "outputs": [
    {
     "name": "stdout",
     "output_type": "stream",
     "text": [
      "Merged dictionary: {'a': 1, 'b': 2, 'c': 3, 'd': 4, 'e': 5}\n",
      "Common keys: {'c'}\n",
      "Inverted dictionary: {1: ['a'], 2: ['b'], 3: ['c']}\n",
      "Common key-value pairs: {'c': 3}\n"
     ]
    }
   ],
   "source": [
    "#3\n",
    "import importlib\n",
    "importlib.reload(l)\n",
    "from lab2 import merging_Dict, common_keys, invert_dict, common_key_value_pairs\n",
    "\n",
    "# Example dictionaries\n",
    "dict1 = {'a': 1, 'b': 2, 'c': 3}\n",
    "dict2 = {'b': 2, 'c': 3, 'd': 4}\n",
    "dict3 = {'c': 3, 'd': 4, 'e': 5}\n",
    "\n",
    "# merging_Dict\n",
    "merged = merging_Dict(dict1, dict2, dict3)\n",
    "print(\"Merged dictionary:\", merged)\n",
    "\n",
    "# common_keys\n",
    "common_keys_result = common_keys(dict1, dict2, dict3)\n",
    "print(\"Common keys:\", common_keys_result)\n",
    "\n",
    "# invert_dict\n",
    "inverted_dict = invert_dict(dict1)\n",
    "print(\"Inverted dictionary:\", inverted_dict)\n",
    "\n",
    "# common_key_value_pairs\n",
    "common_kv_pairs = common_key_value_pairs(dict1, dict2, dict3)\n",
    "print(\"Common key-value pairs:\", common_kv_pairs)\n"
   ]
  },
  {
   "cell_type": "code",
   "execution_count": 3,
   "metadata": {},
   "outputs": [
    {
     "name": "stdout",
     "output_type": "stream",
     "text": [
      "Book Operating Systems added successfully.\n",
      "Book Data Structures added successfully.\n",
      "Book Machine Learning added successfully.\n",
      "All books: [{'title': 'Operating Systems', 'author': 'Author A', 'publisher': 'Publisher A', 'volume': 1, 'year': 2021, 'isbn_code': '1234567890'}, {'title': 'Data Structures', 'author': 'Author B', 'publisher': 'Publisher B', 'volume': 1, 'year': 2022, 'isbn_code': '0987654321'}, {'title': 'Machine Learning', 'author': 'Author C', 'publisher': 'Publisher C', 'volume': 1, 'year': 2023, 'isbn_code': '1122334455'}]\n",
      "Book details (ISBN: 1234567890): {'title': 'Operating Systems', 'author': 'Author A', 'publisher': 'Publisher A', 'volume': 1, 'year': 2021, 'isbn_code': '1234567890'}\n",
      "Search results for 'Data': [{'title': 'Data Structures', 'author': 'Author B', 'publisher': 'Publisher B', 'volume': 1, 'year': 2022, 'isbn_code': '0987654321'}]\n",
      "Book with ISBN 1234567890 updated successfully.\n",
      "Is book with ISBN 1234567890 available? True\n",
      "Book with ISBN 0987654321 removed successfully.\n",
      "All books after removal: [{'title': 'Advanced Operating Systems', 'author': 'Author A', 'publisher': 'Publisher A', 'volume': 1, 'year': 2021, 'isbn_code': '1234567890'}, {'title': 'Machine Learning', 'author': 'Author C', 'publisher': 'Publisher C', 'volume': 1, 'year': 2023, 'isbn_code': '1122334455'}]\n"
     ]
    }
   ],
   "source": [
    "#4\n",
    "from LibraryManager import LibraryManager\n",
    "\n",
    "if __name__ == \"__main__\":\n",
    "    manager = LibraryManager()\n",
    "    \n",
    "    # Add sample books\n",
    "    manager.add_book(\"1234567890\", \"Operating Systems\", \"Author A\", \"Publisher A\", 1, 2021, \"1234567890\")\n",
    "    manager.add_book(\"0987654321\", \"Data Structures\", \"Author B\", \"Publisher B\", 1, 2022, \"0987654321\")\n",
    "    manager.add_book(\"1122334455\", \"Machine Learning\", \"Author C\", \"Publisher C\", 1, 2023, \"1122334455\")\n",
    "\n",
    "    # List all books\n",
    "    print(\"All books:\", manager.list_books())\n",
    "\n",
    "    # Get details of a specific book\n",
    "    print(\"Book details (ISBN: 1234567890):\", manager.get_book(\"1234567890\"))\n",
    "\n",
    "    # Search for books by title/author\n",
    "    print(\"Search results for 'Data':\", manager.search_books(\"Data\"))\n",
    "\n",
    "    # Update a book\n",
    "    manager.update_book(\"1234567890\", title=\"Advanced Operating Systems\")\n",
    "\n",
    "    # Check if a book is available\n",
    "    print(\"Is book with ISBN 1234567890 available?\", manager.is_book_available(\"1234567890\"))\n",
    "\n",
    "    # Remove a book\n",
    "    manager.remove_book(\"0987654321\")\n",
    "\n",
    "    # List all books again\n",
    "    print(\"All books after removal:\", manager.list_books())"
   ]
  },
  {
   "cell_type": "code",
   "execution_count": 26,
   "metadata": {},
   "outputs": [
    {
     "name": "stdout",
     "output_type": "stream",
     "text": [
      "Highest temperature: 34°C\n",
      "Lowest temperature: 19°C\n",
      "Number of days with temperatures above 30°C: 3\n",
      "Average humidity: 67.6%\n"
     ]
    }
   ],
   "source": [
    "#5\n",
    "weather_data = [\n",
    "    {\"date\": \"2023-08-01\", \"max_temp\": 29, \"min_temp\": 20, \"humidity\": 70},\n",
    "    {\"date\": \"2023-08-02\", \"max_temp\": 31, \"min_temp\": 21, \"humidity\": 68},\n",
    "    {\"date\": \"2023-08-03\", \"max_temp\": 28, \"min_temp\": 19, \"humidity\": 75},\n",
    "    {\"date\": \"2024-07-09\", \"max_temp\": 33, \"min_temp\": 22, \"humidity\": 65},\n",
    "    {\"date\": \"2024-07-10\", \"max_temp\": 34, \"min_temp\": 23, \"humidity\": 60},\n",
    "]\n",
    "\n",
    "def find_highest_lowest_temps(data):\n",
    "    if not data:\n",
    "        return None, None\n",
    "    max_temp = max(entry['max_temp'] for entry in data)\n",
    "    min_temp = min(entry['min_temp'] for entry in data)\n",
    "    return max_temp, min_temp\n",
    "\n",
    "def count_days_above_30(data):\n",
    "    return sum(1 for entry in data if entry['max_temp'] > 30)\n",
    "\n",
    "def compute_average_humidity(data):\n",
    "    if not data:\n",
    "        return 0\n",
    "    total_humidity = sum(entry['humidity'] for entry in data)\n",
    "    return total_humidity / len(data)\n",
    "\n",
    "\n",
    "max_temp, min_temp = find_highest_lowest_temps(weather_data)\n",
    "print(f\"Highest temperature: {max_temp}°C\")\n",
    "print(f\"Lowest temperature: {min_temp}°C\")\n",
    "\n",
    "\n",
    "days_above_30 = count_days_above_30(weather_data)\n",
    "print(f\"Number of days with temperatures above 30°C: {days_above_30}\")\n",
    "\n",
    "average_humidity = compute_average_humidity(weather_data)\n",
    "print(f\"Average humidity: {average_humidity}%\")\n"
   ]
  },
  {
   "cell_type": "code",
   "execution_count": null,
   "metadata": {},
   "outputs": [],
   "source": []
  },
  {
   "cell_type": "code",
   "execution_count": null,
   "metadata": {},
   "outputs": [],
   "source": []
  },
  {
   "cell_type": "code",
   "execution_count": null,
   "metadata": {},
   "outputs": [],
   "source": []
  }
 ],
 "metadata": {
  "kernelspec": {
   "display_name": "base",
   "language": "python",
   "name": "python3"
  },
  "language_info": {
   "codemirror_mode": {
    "name": "ipython",
    "version": 3
   },
   "file_extension": ".py",
   "mimetype": "text/x-python",
   "name": "python",
   "nbconvert_exporter": "python",
   "pygments_lexer": "ipython3",
   "version": "3.9.7"
  }
 },
 "nbformat": 4,
 "nbformat_minor": 2
}
