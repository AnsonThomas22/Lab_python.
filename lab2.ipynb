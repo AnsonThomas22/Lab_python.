{
 "cells": [
  {
   "cell_type": "code",
   "execution_count": 12,
   "metadata": {},
   "outputs": [
    {
     "name": "stdout",
     "output_type": "stream",
     "text": [
      "List 1: First 10 natural numbers\n",
      "The maximum value of the list is: 10\n",
      "The minimum value of the list is: 1\n",
      "The sum of the list is: 55\n",
      "The average value of the list is: 5.5\n",
      "The median is: 5.5\n",
      "\n",
      "List 2: First 10 even numbers\n",
      "The maximum value of the list is: 20\n",
      "The minimum value of the list is: 2\n",
      "The sum of the list is: 110\n",
      "The average value of the list is: 11.0\n",
      "The median is: 11.0\n",
      "\n",
      "List 3: Squares of first 10 natural numbers\n",
      "The maximum value of the list is: 100\n",
      "The minimum value of the list is: 1\n",
      "The sum of the list is: 385\n",
      "The average value of the list is: 38.5\n",
      "The median is: 30.5\n",
      "\n",
      "List 4: Multiples of 5 up to 50\n",
      "The maximum value of the list is: 50\n",
      "The minimum value of the list is: 5\n",
      "The sum of the list is: 275\n",
      "The average value of the list is: 27.5\n",
      "The median is: 27.5\n",
      "\n",
      "List 5: First 10 odd numbers\n",
      "The maximum value of the list is: 19\n",
      "The minimum value of the list is: 1\n",
      "The sum of the list is: 100\n",
      "The average value of the list is: 10.0\n",
      "The median is: 10.0\n"
     ]
    }
   ],
   "source": [
    "#!\n",
    "#a\n",
    "import lab2 as l\n",
    "import importlib\n",
    "importlib.reload(l)\n",
    "list1 = [x for x in range(1, 11)]\n",
    "list2 = [x for x in range(2, 21, 2)]\n",
    "list3 = [x**2 for x in range(1, 11)]\n",
    "list4 = [x for x in range(5, 51, 5)]\n",
    "list5 = [x for x in range(1, 20, 2)]\n",
    "\n",
    "print(\"List 1: First 10 natural numbers\")\n",
    "l.module_ListFunction(list1) \n",
    "print(\"\\nList 2: First 10 even numbers\")\n",
    "l.module_ListFunction(list2)\n",
    "print(\"\\nList 3: Squares of first 10 natural numbers\")\n",
    "l.module_ListFunction(list3)\n",
    "print(\"\\nList 4: Multiples of 5 up to 50\")\n",
    "l.module_ListFunction(list4)\n",
    "print(\"\\nList 5: First 10 odd numbers\")\n",
    "l.module_ListFunction(list5)"
   ]
  },
  {
   "cell_type": "code",
   "execution_count": 19,
   "metadata": {},
   "outputs": [
    {
     "name": "stdout",
     "output_type": "stream",
     "text": [
      "Add element 4 to s1: {1, 2, 3, 4}\n",
      "Remove element 2 from s1: {1, 3, 4}\n",
      "Union of s1 and s2: {1, 3, 4, 5}\n",
      "Intersection of s1 and s2: {3, 4}\n",
      "Difference s1 - s2: {1}\n",
      "Is s1 a subset of s2? False\n",
      "Length of s1: 3\n",
      "Symmetric difference of s1 and s2: {1, 5}\n",
      "Power set of s1: [set(), {1}, {3}, {4}, {1, 3}, {1, 4}, {3, 4}, {1, 3, 4}]\n",
      "Unique subsets of s1: [set(), {1}, {3}, {4}, {1, 3}, {1, 4}, {3, 4}, {1, 3, 4}]\n"
     ]
    }
   ],
   "source": [
    "import importlib\n",
    "importlib.reload(l)\n",
    "from lab2 import (\n",
    "    add_element,\n",
    "    remove_element,\n",
    "    union_and_intersection,\n",
    "    difference,\n",
    "    is_subset,\n",
    "    set_length,\n",
    "    symmetric_difference,\n",
    "    power_set,\n",
    "    unique_subsets\n",
    ")\n",
    "\n",
    "\n",
    "\n",
    "# Example sets\n",
    "s1 = {1, 2, 3}\n",
    "s2 = {3, 4, 5}\n",
    "\n",
    "\n",
    "# Add element\n",
    "print(\"Add element 4 to s1:\", add_element(s1, 4))\n",
    "\n",
    "# Remove element\n",
    "print(\"Remove element 2 from s1:\", remove_element(s1, 2))\n",
    "\n",
    "# Union and Intersection\n",
    "union, intersection = union_and_intersection(s1, s2)\n",
    "print(\"Union of s1 and s2:\", union)\n",
    "print(\"Intersection of s1 and s2:\", intersection)\n",
    "\n",
    "# Difference\n",
    "print(\"Difference s1 - s2:\", difference(s1, s2))\n",
    "\n",
    "# Subset check\n",
    "print(\"Is s1 a subset of s2?\", is_subset(s1, s2))\n",
    "\n",
    "# Length of set\n",
    "print(\"Length of s1:\", set_length(s1))\n",
    "\n",
    "# Symmetric Difference\n",
    "print(\"Symmetric difference of s1 and s2:\", symmetric_difference(s1, s2))\n",
    "\n",
    "# Power Set\n",
    "print(\"Power set of s1:\", power_set(s1))\n",
    "\n",
    "# Unique Subsets\n",
    "print(\"Unique subsets of s1:\", unique_subsets(s1))"
   ]
  },
  {
   "cell_type": "code",
   "execution_count": 20,
   "metadata": {},
   "outputs": [
    {
     "data": {
      "text/plain": [
       "['__builtins__',\n",
       " '__cached__',\n",
       " '__doc__',\n",
       " '__file__',\n",
       " '__loader__',\n",
       " '__name__',\n",
       " '__package__',\n",
       " '__spec__',\n",
       " 'add_element',\n",
       " 'difference',\n",
       " 'is_subset',\n",
       " 'module_ListFunction',\n",
       " 'power_set',\n",
       " 'remove_element',\n",
       " 'set_length',\n",
       " 'symmetric_difference',\n",
       " 'union_and_intersection',\n",
       " 'unique_subsets']"
      ]
     },
     "execution_count": 20,
     "metadata": {},
     "output_type": "execute_result"
    }
   ],
   "source": [
    "dir(l)"
   ]
  },
  {
   "cell_type": "code",
   "execution_count": 21,
   "metadata": {},
   "outputs": [
    {
     "name": "stdout",
     "output_type": "stream",
     "text": [
      "Merged dictionary: {'a': 1, 'b': 2, 'c': 3, 'd': 4, 'e': 5}\n",
      "Common keys: {'c'}\n",
      "Inverted dictionary: {1: ['a'], 2: ['b'], 3: ['c']}\n",
      "Common key-value pairs: {'c': 3}\n"
     ]
    }
   ],
   "source": [
    "import importlib\n",
    "importlib.reload(l)\n",
    "from lab2 import merging_Dict, common_keys, invert_dict, common_key_value_pairs\n",
    "\n",
    "# Example dictionaries\n",
    "dict1 = {'a': 1, 'b': 2, 'c': 3}\n",
    "dict2 = {'b': 2, 'c': 3, 'd': 4}\n",
    "dict3 = {'c': 3, 'd': 4, 'e': 5}\n",
    "\n",
    "# merging_Dict\n",
    "merged = merging_Dict(dict1, dict2, dict3)\n",
    "print(\"Merged dictionary:\", merged)\n",
    "\n",
    "# common_keys\n",
    "common_keys_result = common_keys(dict1, dict2, dict3)\n",
    "print(\"Common keys:\", common_keys_result)\n",
    "\n",
    "# invert_dict\n",
    "inverted_dict = invert_dict(dict1)\n",
    "print(\"Inverted dictionary:\", inverted_dict)\n",
    "\n",
    "# common_key_value_pairs\n",
    "common_kv_pairs = common_key_value_pairs(dict1, dict2, dict3)\n",
    "print(\"Common key-value pairs:\", common_kv_pairs)\n"
   ]
  },
  {
   "cell_type": "code",
   "execution_count": 25,
   "metadata": {},
   "outputs": [
    {
     "name": "stdout",
     "output_type": "stream",
     "text": [
      "Book with ISBN 978-0134685991 added.\n",
      "Book with ISBN 978-0262042833 added.\n",
      "Book with ISBN 978-1492032649 added.\n"
     ]
    },
    {
     "ename": "TypeError",
     "evalue": "add_book() missing 1 required positional argument: 'details'",
     "output_type": "error",
     "traceback": [
      "\u001b[1;31m---------------------------------------------------------------------------\u001b[0m",
      "\u001b[1;31mTypeError\u001b[0m                                 Traceback (most recent call last)",
      "\u001b[1;32m~\\AppData\\Local\\Temp/ipykernel_22168/1970626818.py\u001b[0m in \u001b[0;36m<module>\u001b[1;34m\u001b[0m\n\u001b[0;32m     13\u001b[0m     \u001b[0mlibrary_manager\u001b[0m\u001b[1;33m.\u001b[0m\u001b[0madd_book\u001b[0m\u001b[1;33m(\u001b[0m\u001b[0misbn\u001b[0m\u001b[1;33m,\u001b[0m \u001b[0mdetails\u001b[0m\u001b[1;33m)\u001b[0m\u001b[1;33m\u001b[0m\u001b[1;33m\u001b[0m\u001b[0m\n\u001b[0;32m     14\u001b[0m \u001b[1;31m# Add a new book\u001b[0m\u001b[1;33m\u001b[0m\u001b[1;33m\u001b[0m\u001b[0m\n\u001b[1;32m---> 15\u001b[1;33m \u001b[0mLibraryManager\u001b[0m\u001b[1;33m.\u001b[0m\u001b[0madd_book\u001b[0m\u001b[1;33m(\u001b[0m\u001b[1;34m\"978-0134685992\"\u001b[0m\u001b[1;33m,\u001b[0m \u001b[1;33m{\u001b[0m\u001b[1;34m\"title\"\u001b[0m\u001b[1;33m:\u001b[0m \u001b[1;34m\"New Operating Systems Book\"\u001b[0m\u001b[1;33m,\u001b[0m \u001b[1;34m\"author\"\u001b[0m\u001b[1;33m:\u001b[0m \u001b[1;34m\"Author Name\"\u001b[0m\u001b[1;33m,\u001b[0m \u001b[1;34m\"publisher\"\u001b[0m\u001b[1;33m:\u001b[0m \u001b[1;34m\"Some Publisher\"\u001b[0m\u001b[1;33m,\u001b[0m \u001b[1;34m\"volume\"\u001b[0m\u001b[1;33m:\u001b[0m \u001b[1;36m1\u001b[0m\u001b[1;33m,\u001b[0m \u001b[1;34m\"year\"\u001b[0m\u001b[1;33m:\u001b[0m \u001b[1;36m2023\u001b[0m\u001b[1;33m,\u001b[0m \u001b[1;34m\"isbn\"\u001b[0m\u001b[1;33m:\u001b[0m \u001b[1;34m\"978-0134685992\"\u001b[0m\u001b[1;33m}\u001b[0m\u001b[1;33m)\u001b[0m\u001b[1;33m\u001b[0m\u001b[1;33m\u001b[0m\u001b[0m\n\u001b[0m\u001b[0;32m     16\u001b[0m \u001b[1;33m\u001b[0m\u001b[0m\n\u001b[0;32m     17\u001b[0m \u001b[1;31m# Remove a book\u001b[0m\u001b[1;33m\u001b[0m\u001b[1;33m\u001b[0m\u001b[0m\n",
      "\u001b[1;31mTypeError\u001b[0m: add_book() missing 1 required positional argument: 'details'"
     ]
    }
   ],
   "source": [
    "from LibraryManager import LibraryManager\n",
    "# Sample data for 25 books\n",
    "sample_books = {\n",
    "    \"978-0134685991\": {\"title\": \"Operating Systems: Three Easy Pieces\", \"author\": \"Remzi H. Arpaci-Dusseau\", \"publisher\": \"Arpaci-Dusseau Books\", \"volume\": 1, \"year\": 2020, \"isbn\": \"978-0134685991\"},\n",
    "    \"978-0262042833\": {\"title\": \"Data Structures and Algorithms in Python\", \"author\": \"Michael T. Goodrich\", \"publisher\": \"Wiley\", \"volume\": 1, \"year\": 2021, \"isbn\": \"978-0262042833\"},\n",
    "    \"978-1492032649\": {\"title\": \"Machine Learning with Python Cookbook\", \"author\": \"Chris Albon\", \"publisher\": \"O'Reilly Media\", \"volume\": 1, \"year\": 2022, \"isbn\": \"978-1492032649\"},\n",
    "   \n",
    "}\n",
    "\n",
    "# Initialize library manager and add sample books\n",
    "library_manager = LibraryManager()\n",
    "for isbn, details in sample_books.items():\n",
    "    library_manager.add_book(isbn, details)\n",
    "# Add a new book\n",
    "LibraryManager.add_book(\"978-0134685992\", {\"title\": \"New Operating Systems Book\", \"author\": \"Author Name\", \"publisher\": \"Some Publisher\", \"volume\": 1, \"year\": 2023, \"isbn\": \"978-0134685992\"})\n",
    "\n",
    "# Remove a book\n",
    "library.remove_book(\"978-0134685991\")\n",
    "\n",
    "# Retrieve the details of a book\n",
    "print(\"Details of the book with ISBN 978-0262042833:\", library.get_book_details(\"978-0262042833\"))\n",
    "\n",
    "# Search for books by title\n",
    "print(\"Books with 'Python' in title:\", library.search_books(title=\"Python\"))\n",
    "\n",
    "# Search for books by author\n",
    "print(\"Books by 'Chris Albon':\", library.search_books(author=\"Chris Albon\"))\n",
    "\n",
    "# List all books currently in the library\n",
    "print(\"All books in the library:\", library.list_books())\n",
    "\n",
    "# Update book details\n",
    "library.update_book(\"978-1492032649\", {\"year\": 2024, \"publisher\": \"Updated Publisher\"})\n",
    "\n",
    "# Check if a book is available\n",
    "print(\"Is the book with ISBN 978-0262042833 available?\", library.is_book_available(\"978-0262042833\"))"
   ]
  },
  {
   "cell_type": "code",
   "execution_count": 26,
   "metadata": {},
   "outputs": [
    {
     "name": "stdout",
     "output_type": "stream",
     "text": [
      "Highest temperature: 34°C\n",
      "Lowest temperature: 19°C\n",
      "Number of days with temperatures above 30°C: 3\n",
      "Average humidity: 67.6%\n"
     ]
    }
   ],
   "source": [
    "# Sample weather data for New York City from 1st August 2023 to 10th July 2024\n",
    "weather_data = [\n",
    "    {\"date\": \"2023-08-01\", \"max_temp\": 29, \"min_temp\": 20, \"humidity\": 70},\n",
    "    {\"date\": \"2023-08-02\", \"max_temp\": 31, \"min_temp\": 21, \"humidity\": 68},\n",
    "    {\"date\": \"2023-08-03\", \"max_temp\": 28, \"min_temp\": 19, \"humidity\": 75},\n",
    "    # ... more data here ...\n",
    "    {\"date\": \"2024-07-09\", \"max_temp\": 33, \"min_temp\": 22, \"humidity\": 65},\n",
    "    {\"date\": \"2024-07-10\", \"max_temp\": 34, \"min_temp\": 23, \"humidity\": 60},\n",
    "]\n",
    "\n",
    "def find_highest_lowest_temps(data):\n",
    "    \"\"\"Find the highest and lowest temperatures recorded during the period.\"\"\"\n",
    "    if not data:\n",
    "        return None, None\n",
    "    max_temp = max(entry['max_temp'] for entry in data)\n",
    "    min_temp = min(entry['min_temp'] for entry in data)\n",
    "    return max_temp, min_temp\n",
    "\n",
    "def count_days_above_30(data):\n",
    "    \"\"\"Determine the number of days with temperatures above 30°C.\"\"\"\n",
    "    return sum(1 for entry in data if entry['max_temp'] > 30)\n",
    "\n",
    "def compute_average_humidity(data):\n",
    "    \"\"\"Compute the average humidity over the specified period.\"\"\"\n",
    "    if not data:\n",
    "        return 0\n",
    "    total_humidity = sum(entry['humidity'] for entry in data)\n",
    "    return total_humidity / len(data)\n",
    "\n",
    "# Demonstrate the functionality\n",
    "\n",
    "# Find the highest and lowest temperatures\n",
    "max_temp, min_temp = find_highest_lowest_temps(weather_data)\n",
    "print(f\"Highest temperature: {max_temp}°C\")\n",
    "print(f\"Lowest temperature: {min_temp}°C\")\n",
    "\n",
    "# Count the number of days with temperatures above 30°C\n",
    "days_above_30 = count_days_above_30(weather_data)\n",
    "print(f\"Number of days with temperatures above 30°C: {days_above_30}\")\n",
    "\n",
    "# Compute the average humidity\n",
    "average_humidity = compute_average_humidity(weather_data)\n",
    "print(f\"Average humidity: {average_humidity}%\")\n"
   ]
  },
  {
   "cell_type": "code",
   "execution_count": null,
   "metadata": {},
   "outputs": [],
   "source": []
  },
  {
   "cell_type": "code",
   "execution_count": null,
   "metadata": {},
   "outputs": [],
   "source": []
  },
  {
   "cell_type": "code",
   "execution_count": null,
   "metadata": {},
   "outputs": [],
   "source": []
  }
 ],
 "metadata": {
  "kernelspec": {
   "display_name": "base",
   "language": "python",
   "name": "python3"
  },
  "language_info": {
   "codemirror_mode": {
    "name": "ipython",
    "version": 3
   },
   "file_extension": ".py",
   "mimetype": "text/x-python",
   "name": "python",
   "nbconvert_exporter": "python",
   "pygments_lexer": "ipython3",
   "version": "3.9.7"
  }
 },
 "nbformat": 4,
 "nbformat_minor": 2
}
