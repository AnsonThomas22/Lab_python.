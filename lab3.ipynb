{
 "cells": [
  {
   "cell_type": "code",
   "execution_count": 107,
   "metadata": {},
   "outputs": [
    {
     "name": "stdout",
     "output_type": "stream",
     "text": [
      "***Enter the user data***\n",
      "User  1\n",
      "User  2\n",
      "Image saved as imgqr.png\n",
      "\n",
      " Registered Users:\n",
      "Name: Anson, Email: abc\n",
      "Name: Lola, Email: lola@gmail.com\n"
     ]
    }
   ],
   "source": [
    "import smartscan_registration_module as srm\n",
    "import importlib\n",
    "importlib.reload(srm)\n",
    "user_data = []\n",
    "print(\"***Enter the user data***\")\n",
    "\n",
    "choice = True\n",
    "i = 1\n",
    "\n",
    "while choice:\n",
    "    print(\"User \", i)\n",
    "    name = input(\"Enter name: \")\n",
    "    email = input(\"Enter email: \")\n",
    "    data = f\"{name},{email}\"\n",
    "    user_data.append(data)\n",
    "    more = input(\"Do you want to add another user? (yes/no): \")\n",
    "   \n",
    "    if more.lower() == \"yes\":\n",
    "        i += 1\n",
    "    else:\n",
    "        choice = False\n",
    "\n",
    "all_user_data = \"\\n\".join(user_data)\n",
    "\n",
    "srm.generateqr(all_user_data)\n",
    "\n",
    "\n",
    "srm.RegisterUserFromSmartScan(\"imgqr.png\")"
   ]
  },
  {
   "cell_type": "code",
   "execution_count": null,
   "metadata": {},
   "outputs": [],
   "source": []
  }
 ],
 "metadata": {
  "kernelspec": {
   "display_name": "base",
   "language": "python",
   "name": "python3"
  },
  "language_info": {
   "codemirror_mode": {
    "name": "ipython",
    "version": 3
   },
   "file_extension": ".py",
   "mimetype": "text/x-python",
   "name": "python",
   "nbconvert_exporter": "python",
   "pygments_lexer": "ipython3",
   "version": "3.9.7"
  }
 },
 "nbformat": 4,
 "nbformat_minor": 2
}
